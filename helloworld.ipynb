{
 "cells": [
  {
   "cell_type": "code",
   "execution_count": 1,
   "id": "cfc765fe",
   "metadata": {
    "execution": {
     "iopub.execute_input": "2022-03-24T17:16:27.550027Z",
     "iopub.status.busy": "2022-03-24T17:16:27.547462Z",
     "iopub.status.idle": "2022-03-24T17:16:27.556692Z",
     "shell.execute_reply": "2022-03-24T17:16:27.555765Z",
     "shell.execute_reply.started": "2022-03-24T17:16:03.996442Z"
    },
    "papermill": {
     "duration": 0.022414,
     "end_time": "2022-03-24T17:16:27.556941",
     "exception": false,
     "start_time": "2022-03-24T17:16:27.534527",
     "status": "completed"
    },
    "tags": []
   },
   "outputs": [
    {
     "name": "stdout",
     "output_type": "stream",
     "text": [
      "Hello world\n"
     ]
    }
   ],
   "source": [
    "print (\"Hello world\")"
   ]
  },
  {
   "cell_type": "code",
   "execution_count": null,
   "id": "b603af91",
   "metadata": {
    "papermill": {
     "duration": 0.002822,
     "end_time": "2022-03-24T17:16:27.564209",
     "exception": false,
     "start_time": "2022-03-24T17:16:27.561387",
     "status": "completed"
    },
    "tags": []
   },
   "outputs": [],
   "source": []
  }
 ],
 "metadata": {
  "kernelspec": {
   "display_name": "Python 3",
   "language": "python",
   "name": "python3"
  },
  "language_info": {
   "codemirror_mode": {
    "name": "ipython",
    "version": 3
   },
   "file_extension": ".py",
   "mimetype": "text/x-python",
   "name": "python",
   "nbconvert_exporter": "python",
   "pygments_lexer": "ipython3",
   "version": "3.7.12"
  },
  "papermill": {
   "default_parameters": {},
   "duration": 10.702944,
   "end_time": "2022-03-24T17:16:28.278806",
   "environment_variables": {},
   "exception": null,
   "input_path": "__notebook__.ipynb",
   "output_path": "__notebook__.ipynb",
   "parameters": {},
   "start_time": "2022-03-24T17:16:17.575862",
   "version": "2.3.3"
  }
 },
 "nbformat": 4,
 "nbformat_minor": 5
}
